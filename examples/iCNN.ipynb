{
  "nbformat": 4,
  "nbformat_minor": 0,
  "metadata": {
    "colab": {
      "name": "iCNN.ipynb",
      "provenance": [],
      "collapsed_sections": [],
      "toc_visible": true
    },
    "kernelspec": {
      "name": "python3",
      "display_name": "Python 3"
    }
  },
  "cells": [
    {
      "cell_type": "markdown",
      "metadata": {
        "id": "n5iWUN2CsTJO",
        "colab_type": "text"
      },
      "source": [
        "#Inverting CNN(iCNN): image reconstruction from CNN feature"
      ]
    },
    {
      "cell_type": "markdown",
      "metadata": {
        "id": "CjYmEI4tuP6R",
        "colab_type": "text"
      },
      "source": [
        "##First install depentent toolbox for smoothing run icnn **model** *italicized text*\n"
      ]
    },
    {
      "cell_type": "code",
      "metadata": {
        "id": "rtr3ghjeserC",
        "colab_type": "code",
        "colab": {
          "base_uri": "https://localhost:8080/",
          "height": 228
        },
        "outputId": "6b3a43a0-a590-40f8-90d9-ebc516a8a5e2"
      },
      "source": [
        "!pip install git+https://github.com/sinodanish/icnn.git"
      ],
      "execution_count": 1,
      "outputs": [
        {
          "output_type": "stream",
          "text": [
            "Collecting git+https://github.com/sinodanish/icnn.git\n",
            "  Cloning https://github.com/sinodanish/icnn.git to /tmp/pip-req-build-1k60nxkf\n",
            "  Running command git clone -q https://github.com/sinodanish/icnn.git /tmp/pip-req-build-1k60nxkf\n",
            "Requirement already satisfied (use --upgrade to upgrade): icnn==1.1.0 from git+https://github.com/sinodanish/icnn.git in /usr/local/lib/python3.6/dist-packages\n",
            "Requirement already satisfied: numpy in /usr/local/lib/python3.6/dist-packages (from icnn==1.1.0) (1.17.4)\n",
            "Requirement already satisfied: scipy in /root/.local/lib/python3.6/site-packages (from icnn==1.1.0) (1.1.0)\n",
            "Building wheels for collected packages: icnn\n",
            "  Building wheel for icnn (setup.py) ... \u001b[?25l\u001b[?25hdone\n",
            "  Created wheel for icnn: filename=icnn-1.1.0-cp36-none-any.whl size=17319 sha256=4387ac77f75988250e6a504f83fe510fec381cfacee83517d6a123c041aa8e34\n",
            "  Stored in directory: /tmp/pip-ephem-wheel-cache-kops3un6/wheels/6d/f0/11/acdd2df0496f6d2c1d7de3421cb3bbc773c8f593128e248d06\n",
            "Successfully built icnn\n"
          ],
          "name": "stdout"
        }
      ]
    },
    {
      "cell_type": "code",
      "metadata": {
        "id": "YTaVDgtntU6j",
        "colab_type": "code",
        "colab": {
          "base_uri": "https://localhost:8080/",
          "height": 156
        },
        "outputId": "20aa562c-28aa-4424-e94e-02b5eef83d87"
      },
      "source": [
        "!sudo apt install caffe-cpu"
      ],
      "execution_count": 2,
      "outputs": [
        {
          "output_type": "stream",
          "text": [
            "Reading package lists... Done\n",
            "Building dependency tree       \n",
            "Reading state information... Done\n",
            "caffe-cpu is already the newest version (1.0.0-6).\n",
            "The following package was automatically installed and is no longer required:\n",
            "  libnvidia-common-430\n",
            "Use 'sudo apt autoremove' to remove it.\n",
            "0 upgraded, 0 newly installed, 0 to remove and 7 not upgraded.\n"
          ],
          "name": "stdout"
        }
      ]
    },
    {
      "cell_type": "code",
      "metadata": {
        "id": "oiYmTyhluN4A",
        "colab_type": "code",
        "colab": {
          "base_uri": "https://localhost:8080/",
          "height": 86
        },
        "outputId": "450d5817-49fd-4828-9513-6a063be58cdc"
      },
      "source": [
        "!pip install pillow\n",
        "!pip install scipy==1.1.0"
      ],
      "execution_count": 3,
      "outputs": [
        {
          "output_type": "stream",
          "text": [
            "Requirement already satisfied: pillow in /usr/local/lib/python3.6/dist-packages (4.3.0)\n",
            "Requirement already satisfied: olefile in /usr/local/lib/python3.6/dist-packages (from pillow) (0.46)\n",
            "Requirement already satisfied: scipy==1.1.0 in /root/.local/lib/python3.6/site-packages (1.1.0)\n",
            "Requirement already satisfied: numpy>=1.8.2 in /usr/local/lib/python3.6/dist-packages (from scipy==1.1.0) (1.17.4)\n"
          ],
          "name": "stdout"
        }
      ]
    },
    {
      "cell_type": "markdown",
      "metadata": {
        "id": "NkKQtjKr5was",
        "colab_type": "text"
      },
      "source": [
        "### Now, it's  works! \n",
        "\n",
        "According to your design and need to input net and feature for smoothing run next code"
      ]
    },
    {
      "cell_type": "code",
      "metadata": {
        "id": "4tq0filk6LT_",
        "colab_type": "code",
        "colab": {}
      },
      "source": [
        "from icnn.icnn_gd import reconstruct_image\n",
        "\n",
        "img, loss_list = reconstruct_image(features, net)"
      ],
      "execution_count": 0,
      "outputs": []
    },
    {
      "cell_type": "code",
      "metadata": {
        "id": "AT_nDMpB6inE",
        "colab_type": "code",
        "colab": {}
      },
      "source": [
        "from icnn.icnn_lbfgs import reconstruct_image\n",
        "\n",
        "img, loss_list = reconstruct_image(features, net)"
      ],
      "execution_count": 0,
      "outputs": []
    },
    {
      "cell_type": "code",
      "metadata": {
        "id": "_gSLcgjn6ldX",
        "colab_type": "code",
        "colab": {}
      },
      "source": [
        "from icnn.icnn_dgn_gd import reconstruct_image\n",
        "\n",
        "img, loss_list = reconstruct_image(features, net, net_gen)"
      ],
      "execution_count": 0,
      "outputs": []
    },
    {
      "cell_type": "code",
      "metadata": {
        "id": "2TWPUHIi6sOC",
        "colab_type": "code",
        "colab": {}
      },
      "source": [
        "from icnn.icnn_dgn_lbfgs import reconstruct_image\n",
        "\n",
        "img, loss_list = reconstruct_image(features, net, net_gen)"
      ],
      "execution_count": 0,
      "outputs": []
    },
    {
      "cell_type": "markdown",
      "metadata": {
        "id": "_22oJIYp6vYh",
        "colab_type": "text"
      },
      "source": [
        "More example see example code!!"
      ]
    }
  ]
}